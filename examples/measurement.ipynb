{
 "cells": [
  {
   "cell_type": "code",
   "execution_count": 4,
   "metadata": {},
   "outputs": [],
   "source": [
    "import navsim as ns\n",
    "import numpy as np\n",
    "\n",
    "from navsim.paths import CONFIG_PATH"
   ]
  },
  {
   "cell_type": "code",
   "execution_count": 5,
   "metadata": {},
   "outputs": [],
   "source": [
    "rx_pos = np.array([423756, -5361363, 3417705])"
   ]
  },
  {
   "cell_type": "code",
   "execution_count": 6,
   "metadata": {},
   "outputs": [
    {
     "name": "stderr",
     "output_type": "stream",
     "text": [
      "extracting gps emitter states: 100%|██████████| 1801/1801 [00:03<00:00, 490.31it/s] \n",
      "computing line-of-sight states: 100%|██████████| 1801/1801 [00:01<00:00, 980.97it/s] \n",
      "[navsim]: simulating observables: 100%|██████████| 1801/1801 [00:04<00:00, 432.83it/s]"
     ]
    },
    {
     "name": "stdout",
     "output_type": "stream",
     "text": [
      "[navsim]: simulation complete!\n"
     ]
    },
    {
     "name": "stderr",
     "output_type": "stream",
     "text": [
      "\n"
     ]
    }
   ],
   "source": [
    "configuration = ns.get_configuration(configuration_path=CONFIG_PATH)\n",
    "\n",
    "sim = ns.get_simulation(simulation_type=configuration.type)\n",
    "sim.initialize(configuration=configuration)\n",
    "sim.simulate(rx_pos=rx_pos)"
   ]
  },
  {
   "cell_type": "code",
   "execution_count": 7,
   "metadata": {},
   "outputs": [
    {
     "name": "stdout",
     "output_type": "stream",
     "text": [
      "[navsim]: getting emitter truth states...\n",
      "[navsim]: getting receiver truth states...\n",
      "[navsim]: getting simulated observables...\n",
      "[navsim]: exported results to 20231022-194119_measurement_20201014-000018_1800_1.h5\n"
     ]
    }
   ],
   "source": [
    "emitter_states = sim.emitter_states\n",
    "rx_states = sim.rx_states\n",
    "observables = sim.observables\n",
    "\n",
    "sim.to_hdf(output_dir_path=\"../data/\")\n",
    "sim.to_mat(output_dir_path=\"../data/\")"
   ]
  }
 ],
 "metadata": {
  "kernelspec": {
   "display_name": "navsim-R48aH6P1-py3.10",
   "language": "python",
   "name": "python3"
  },
  "language_info": {
   "codemirror_mode": {
    "name": "ipython",
    "version": 3
   },
   "file_extension": ".py",
   "mimetype": "text/x-python",
   "name": "python",
   "nbconvert_exporter": "python",
   "pygments_lexer": "ipython3",
   "version": "3.10.12"
  }
 },
 "nbformat": 4,
 "nbformat_minor": 2
}
